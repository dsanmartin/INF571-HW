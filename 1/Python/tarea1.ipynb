{
 "cells": [
  {
   "cell_type": "markdown",
   "metadata": {},
   "source": [
    "<center>\n",
    "    <h1>Tarea 1</h1>\n",
    "    <h2>Programación con Restricciones</h1>\n",
    "    <h3>Daniel San Martín</h3>\n",
    "</center>"
   ]
  },
  {
   "cell_type": "code",
   "execution_count": 1,
   "metadata": {
    "collapsed": false
   },
   "outputs": [],
   "source": [
    "%matplotlib inline\n",
    "import numpy as np\n",
    "from constraint import Problem, NotInSetConstraint, \\\n",
    "    AllDifferentConstraint, BacktrackingSolver, RecursiveBacktrackingSolver\n",
    "import matplotlib.pyplot as plt\n",
    "import sys"
   ]
  },
  {
   "cell_type": "markdown",
   "metadata": {},
   "source": [
    "## Ejercicio 1\n",
    "\n",
    "¿Qué valores entre 0 y 9 todos distintos satisfacen la ecuación?\n",
    "\n",
    "<img src=\"img/sendmoremoney.jpg\" />"
   ]
  },
  {
   "cell_type": "code",
   "execution_count": 2,
   "metadata": {
    "collapsed": false
   },
   "outputs": [],
   "source": [
    "def send_more_money(es, solver, fc, reservas):\n",
    "    if solver == \"BT\":\n",
    "        problem = Problem(BacktrackingSolver(forwardcheck=fc))\n",
    "    elif solver == \"RBT\":\n",
    "        problem = Problem(RecursiveBacktrackingSolver(forwardcheck=fc))\n",
    "    \n",
    "    ## Inicializacion de variables\n",
    "    if es == 1: # Estrategia 1\n",
    "        problem.addVariables(\"sendmory\", range(10)) # Se agregan las variables entre valores [0, 9]\n",
    "    elif es == 2: # Estretegia 2\n",
    "        problem.addVariables(\"endory\", range(10))\n",
    "        problem.addVariables(\"s\", range(1, 10))\n",
    "        problem.addVariables(\"m\", [1])\n",
    "    \n",
    "    # Restriccion principal\n",
    "    problem.addConstraint(lambda s, e, n, d, m, o, r, y:\n",
    "                          1000 * s + 100 * e + 10 * n + d + 1000 * m + 100 * o + 10 * r + e ==\n",
    "                          10000 * m + 1000 * o + 100 * n + 10 * e + y, \"sendmory\")    \n",
    "    if es == 1:\n",
    "        # Se remueve el valor 0 de los dominios de s y m\n",
    "        problem.addConstraint(NotInSetConstraint([0]), \"sm\") \n",
    "        \n",
    "    if reservas:\n",
    "        # Restricciones adicionales (manejo de reservas)\n",
    "        problem.addConstraint(lambda d, e, y: (d + e) % 10 == y, \"dey\")\n",
    "        problem.addConstraint(lambda n, d, r, e, y: (n * 10 + d + r * 10 + e) % 100 ==\n",
    "                              e * 10 + y, \"ndrey\")\n",
    "        problem.addConstraint(lambda e, n, d, o, r, y:\n",
    "                              (e * 100 + n * 10 + d + o * 100 + r * 10 + e) % 1000 ==\n",
    "                              n * 100 + e * 10 + y, \"endory\")\n",
    "    \n",
    "    # Se declara la restriccion para que todos las variables sean distintas\n",
    "    problem.addConstraint(AllDifferentConstraint())\n",
    "    \n",
    "    solutions = problem.getSolutions()\n",
    "    return solutions\n",
    "\n",
    "\n",
    "def exe_1(es=1, solver=\"BT\", fc=True, reservas=False, show=False):\n",
    "    solutions = send_more_money(es, solver, fc, reservas)\n",
    "    if show: # Mostrar solucion\n",
    "        print(\"SEND+MORE=MONEY\")\n",
    "        for s in solutions:\n",
    "            print(\"%(s)d%(e)d%(n)d%(d)d+\"\n",
    "                  \"%(m)d%(o)d%(r)d%(e)d=\"\n",
    "                  \"%(m)d%(o)d%(n)d%(e)d%(y)d\" % s)"
   ]
  },
  {
   "cell_type": "markdown",
   "metadata": {},
   "source": [
    "### Combinaciones de parámetros\n",
    "\n",
    "I. Estrategias para manejar variables:\n",
    "1. Se inicializan $S,E,N,D,M,O,R,Y \\in [0, ..., 9]$, y se restringe a $S, M \\neq 0$\n",
    "2. Se inicializan $E,N,D,O,R,Y \\in [0, ..., 9]$, $S\\in [1, ..., 9]$ y $M\\in [1]$\n",
    "\n",
    "II. Restricciones extras para el manejo de \"reservas\" en la suma.\n",
    "\n",
    "III. Se prueban dos \"solver\": *Backtracking* y *Recursive Backtracking*\n",
    "\n",
    "IV. Se prueban los \"solvers\" con y sin *Forwardchecking*."
   ]
  },
  {
   "cell_type": "code",
   "execution_count": 3,
   "metadata": {
    "collapsed": true
   },
   "outputs": [],
   "source": [
    "est = [1, 2]\n",
    "res = [False, True]\n",
    "sol = [\"BT\", \"RBT\"]\n",
    "fwc = [False, True]"
   ]
  },
  {
   "cell_type": "code",
   "execution_count": 4,
   "metadata": {
    "collapsed": false
   },
   "outputs": [
    {
     "name": "stdout",
     "output_type": "stream",
     "text": [
      "Prueba: Estrategia 1, Reserva False, Solver BT, Forwardchecking False\n",
      "1 loop, best of 1: 30.7 s per loop\n",
      "\n",
      "Prueba: Estrategia 1, Reserva False, Solver BT, Forwardchecking True\n",
      "1 loop, best of 1: 14 s per loop\n",
      "\n",
      "Prueba: Estrategia 1, Reserva False, Solver RBT, Forwardchecking False\n",
      "1 loop, best of 1: 29.2 s per loop\n",
      "\n",
      "Prueba: Estrategia 1, Reserva False, Solver RBT, Forwardchecking True\n",
      "1 loop, best of 1: 13.7 s per loop\n",
      "\n",
      "Prueba: Estrategia 1, Reserva True, Solver BT, Forwardchecking False\n",
      "1 loop, best of 1: 98.2 ms per loop\n",
      "\n",
      "Prueba: Estrategia 1, Reserva True, Solver BT, Forwardchecking True\n",
      "1 loop, best of 1: 60.9 ms per loop\n",
      "\n",
      "Prueba: Estrategia 1, Reserva True, Solver RBT, Forwardchecking False\n",
      "1 loop, best of 1: 95.1 ms per loop\n",
      "\n",
      "Prueba: Estrategia 1, Reserva True, Solver RBT, Forwardchecking True\n",
      "1 loop, best of 1: 69.8 ms per loop\n",
      "\n",
      "Prueba: Estrategia 2, Reserva False, Solver BT, Forwardchecking False\n",
      "1 loop, best of 1: 3.36 s per loop\n",
      "\n",
      "Prueba: Estrategia 2, Reserva False, Solver BT, Forwardchecking True\n",
      "1 loop, best of 1: 1.56 s per loop\n",
      "\n",
      "Prueba: Estrategia 2, Reserva False, Solver RBT, Forwardchecking False\n",
      "1 loop, best of 1: 3.24 s per loop\n",
      "\n",
      "Prueba: Estrategia 2, Reserva False, Solver RBT, Forwardchecking True\n",
      "1 loop, best of 1: 1.56 s per loop\n",
      "\n",
      "Prueba: Estrategia 2, Reserva True, Solver BT, Forwardchecking False\n",
      "1 loop, best of 1: 67.9 ms per loop\n",
      "\n",
      "Prueba: Estrategia 2, Reserva True, Solver BT, Forwardchecking True\n",
      "1 loop, best of 1: 31.3 ms per loop\n",
      "\n",
      "Prueba: Estrategia 2, Reserva True, Solver RBT, Forwardchecking False\n",
      "1 loop, best of 1: 65.5 ms per loop\n",
      "\n",
      "Prueba: Estrategia 2, Reserva True, Solver RBT, Forwardchecking True\n",
      "1 loop, best of 1: 30.3 ms per loop\n",
      "\n"
     ]
    }
   ],
   "source": [
    "for e in est:\n",
    "    for r in res:\n",
    "        for s in sol:\n",
    "            for f in fwc:\n",
    "                print(\"Prueba: Estrategia %d, Reserva %r, Solver %s, Forwardchecking %r\"%(e, r, s, f))\n",
    "                %timeit -n1 -r1 exe_1(es=e, solver=s, fc=f, reservas=r)\n",
    "                print()"
   ]
  },
  {
   "cell_type": "code",
   "execution_count": 5,
   "metadata": {
    "collapsed": false,
    "scrolled": false
   },
   "outputs": [
    {
     "name": "stdout",
     "output_type": "stream",
     "text": [
      "SEND+MORE=MONEY\n",
      "9567+1085=10652\n"
     ]
    }
   ],
   "source": [
    "exe_1(es=2, solver=\"RBT\", fc=True, reservas=True, show=True)"
   ]
  },
  {
   "cell_type": "markdown",
   "metadata": {},
   "source": [
    "## Ejercicio 2\n",
    "\n",
    "¿Cuál es el máximo número de reinas que pueden ser puestas en un tablero de ajedrez de $n\\times n$ sin que se ataquen?\n",
    "\n",
    "<img src=\"img/queens.png\" />"
   ]
  },
  {
   "cell_type": "code",
   "execution_count": 6,
   "metadata": {
    "collapsed": true
   },
   "outputs": [],
   "source": [
    "def queens(n):\n",
    "    problem = Problem()\n",
    "    cols = range(n)\n",
    "    rows = range(n)\n",
    "    problem.addVariables(cols, rows)\n",
    "    for col1 in cols:\n",
    "        for col2 in cols:\n",
    "            if col1 < col2:\n",
    "                problem.addConstraint(lambda row1, row2, col1=col1, col2=col2:\n",
    "                                      abs(row1 - row2) != abs(col1 - col2) and\n",
    "                                      row1 != row2, (col1, col2))\n",
    "    solutions = problem.getSolutions()\n",
    "    return solutions\n",
    "\n",
    "\n",
    "def showSolution(solution, size):\n",
    "    sys.stdout.write(\"   %s \\n\" % (\"-\" * ((size * 4) - 1)))\n",
    "    for i in range(size):\n",
    "        sys.stdout.write(\"  |\")\n",
    "        for j in range(size):\n",
    "            if solution[j] == i:\n",
    "                sys.stdout.write(\" %d |\" % j)\n",
    "            else:\n",
    "                sys.stdout.write(\"   |\")\n",
    "        sys.stdout.write(\"\\n\")\n",
    "        if i != size - 1:\n",
    "            sys.stdout.write(\"  |%s|\\n\" % (\"-\" * ((size * 4) - 1)))\n",
    "    sys.stdout.write(\"   %s \\n\" % (\"-\" * ((size * 4) - 1)))\n",
    "\n",
    "\n",
    "def exe_2(n=8, show=False):\n",
    "    solutions = queens(n)\n",
    "    if show:\n",
    "        print(\"Se encontraron %d soluciones con n=%d\" % (len(solutions), n))\n",
    "        if show:\n",
    "            for solution in solutions:\n",
    "                showSolution(solution, size)\n",
    "                \n",
    "    return len(solutions)"
   ]
  },
  {
   "cell_type": "code",
   "execution_count": 7,
   "metadata": {
    "collapsed": false
   },
   "outputs": [],
   "source": [
    "N = np.arange(1, 15)\n",
    "sol = np.zeros(len(N))\n",
    "times = np.zeros(len(N))\n",
    "\n",
    "for n in N:\n",
    "    t = %timeit -n1 -r1 -o -q sol[n-1] = exe_2(n=n)\n",
    "    times[n-1] = t.best"
   ]
  },
  {
   "cell_type": "code",
   "execution_count": 8,
   "metadata": {
    "collapsed": false,
    "scrolled": false
   },
   "outputs": [
    {
     "data": {
      "image/png": "[encoded data removed]",
      "text/plain": [
       "<matplotlib.figure.Figure at 0x7fc5f1524668>"
      ]
     },
     "metadata": {},
     "output_type": "display_data"
    }
   ],
   "source": [
    "plt.figure(figsize=(12,7))\n",
    "plt.plot(N, sol, '*b')\n",
    "plt.grid(True)\n",
    "plt.xlabel(\"n\")\n",
    "plt.ylabel(\"N° de soluciones\")\n",
    "plt.title(\"N° de Soluciones vs. N\")\n",
    "plt.show()"
   ]
  },
  {
   "cell_type": "code",
   "execution_count": 10,
   "metadata": {
    "collapsed": false
   },
   "outputs": [
    {
     "data": {
      "image/png": "[encoded data removed]",
      "text/plain": [
       "<matplotlib.figure.Figure at 0x7fc5ee176c88>"
      ]
     },
     "metadata": {},
     "output_type": "display_data"
    }
   ],
   "source": [
    "plt.figure(figsize=(12,7))\n",
    "plt.plot(N, times, 'ro')\n",
    "plt.grid(True)\n",
    "plt.xlabel(\"n\")\n",
    "plt.ylabel(\"Tiempo (s)\")\n",
    "plt.title(\"Tiempo vs. N\")\n",
    "plt.show()"
   ]
  },
  {
   "cell_type": "code",
   "execution_count": null,
   "metadata": {
    "collapsed": true
   },
   "outputs": [],
   "source": []
  }
 ],
 "metadata": {
  "kernelspec": {
   "display_name": "Python 3",
   "language": "python",
   "name": "python3"
  },
  "language_info": {
   "codemirror_mode": {
    "name": "ipython",
    "version": 3
   },
   "file_extension": ".py",
   "mimetype": "text/x-python",
   "name": "python",
   "nbconvert_exporter": "python",
   "pygments_lexer": "ipython3",
   "version": "3.6.0"
  }
 },
 "nbformat": 4,
 "nbformat_minor": 2
}
